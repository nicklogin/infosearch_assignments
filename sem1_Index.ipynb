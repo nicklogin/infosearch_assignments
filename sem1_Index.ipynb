{
 "cells": [
  {
   "cell_type": "markdown",
   "metadata": {},
   "source": [
    "## Семинар 1 Индекс\n",
    "\n",
    "## Intro"
   ]
  },
  {
   "cell_type": "markdown",
   "metadata": {},
   "source": [
    "Дедлайн - 18.09.2019"
   ]
  },
  {
   "cell_type": "markdown",
   "metadata": {},
   "source": [
    "##  Индекс \n",
    "\n",
    "Сам по себе индекс - это просто формат хранения данных, он не может осуществлять поиск. Для этого необходимо добавить к нему определенную метрику. Это может быть что-то простое типа булева поиска, а может быть что-то более специфическое или кастомное под задачу.\n",
    "\n",
    "Давайте посмотрим, что полезного можно вытащить из самого индекса.    \n",
    "По сути, индекс - это информация о частоте встречаемости слова в каждом документе.   \n",
    "Из этого можно понять, например:\n",
    "1. какое слово является самым часто употребимым / редким\n",
    "2. какие слова встречаются всегда вместе - так можно парсить твиттер, fb, форумы и отлавливать новые устойчивые выражения в речи\n",
    "3. как эти документы кластеризуются по N тематикам согласно словам, которые в них упоминаются "
   ]
  },
  {
   "cell_type": "markdown",
   "metadata": {},
   "source": [
    "## __Задача__: \n",
    "\n",
    "**Data:** Коллекция субтитров сезонов Друзьей. Одна серия - один документ.\n",
    "\n",
    "**To do:** Постройте небольшой модуль поискового движка, который сможет осуществлять поиск по коллекции документов.\n",
    "На входе запрос и проиндексированная коллекция (в том виде, как посчитаете нужным), на выходе отсортированный по релевантности с запросом список документов коллекции. \n",
    "\n",
    "Релизуйте:\n",
    "    - функцию препроцессинга данных\n",
    "    - функцию индексирования данных\n",
    "    - функцию метрики релевантности \n",
    "    - собственно, функцию поиска\n",
    "\n",
    "[download_friends_corpus](https://yadi.sk/d/yVO1QV98CDibpw)"
   ]
  },
  {
   "cell_type": "markdown",
   "metadata": {},
   "source": [
    "Напоминание про defaultdict: \n",
    "> В качестве multiple values словаря рекомендую использовать ``` collections.defaultdict ```                          \n",
    "> Так можно избежать конструкции ``` dict.setdefault(key, default=None) ```"
   ]
  },
  {
   "cell_type": "markdown",
   "metadata": {},
   "source": [
    "## Реализация:"
   ]
  },
  {
   "cell_type": "code",
   "execution_count": 192,
   "metadata": {},
   "outputs": [],
   "source": [
    "import os\n",
    "import numpy as np\n",
    "import pandas as pd\n",
    "import re"
   ]
  },
  {
   "cell_type": "markdown",
   "metadata": {},
   "source": [
    "Импортируем всё нужное для работы с русским языком:"
   ]
  },
  {
   "cell_type": "code",
   "execution_count": 4,
   "metadata": {},
   "outputs": [],
   "source": [
    "from pymorphy2 import analyzer"
   ]
  },
  {
   "cell_type": "code",
   "execution_count": 5,
   "metadata": {},
   "outputs": [],
   "source": [
    "preprocessor = analyzer.MorphAnalyzer()"
   ]
  },
  {
   "cell_type": "code",
   "execution_count": 6,
   "metadata": {},
   "outputs": [],
   "source": [
    "from pymorphy2.tokenizers import simple_word_tokenize as tokenize"
   ]
  },
  {
   "cell_type": "code",
   "execution_count": 7,
   "metadata": {},
   "outputs": [],
   "source": [
    "parse = preprocessor.parse"
   ]
  },
  {
   "cell_type": "markdown",
   "metadata": {},
   "source": [
    "Собираем тексты из файлов:"
   ]
  },
  {
   "cell_type": "code",
   "execution_count": 93,
   "metadata": {},
   "outputs": [],
   "source": [
    "### _check : в коллекции должно быть около 165 файлов\n",
    "def collect_texts(folder):\n",
    "    texts, episode_names = [], []\n",
    "    for root, directories, files in os.walk(folder):\n",
    "        for file in files:\n",
    "            if file.endswith('.txt'):\n",
    "                with open(os.path.join(root, file), 'r', encoding='utf-8') as inp:\n",
    "                    texts.append(inp.read())\n",
    "                    episode_names.append(file[:-4])\n",
    "    episode_names = np.array(episode_names)\n",
    "    return texts, episode_names"
   ]
  },
  {
   "cell_type": "code",
   "execution_count": 94,
   "metadata": {},
   "outputs": [],
   "source": [
    "texts, episode_names = collect_texts('friends')"
   ]
  },
  {
   "cell_type": "markdown",
   "metadata": {},
   "source": [
    "Обучаем CountVectorizer:"
   ]
  },
  {
   "cell_type": "code",
   "execution_count": 8,
   "metadata": {},
   "outputs": [],
   "source": [
    "## Функция препроцессинга данных:\n",
    "def preprocess(string):\n",
    "    tokens = [w.normal_form for w in [parse(word)[0] for word in tokenize(string)] if w.tag.POS]\n",
    "    return tokens"
   ]
  },
  {
   "cell_type": "code",
   "execution_count": 11,
   "metadata": {},
   "outputs": [],
   "source": [
    "from sklearn.feature_extraction.text import CountVectorizer"
   ]
  },
  {
   "cell_type": "code",
   "execution_count": 12,
   "metadata": {},
   "outputs": [],
   "source": [
    "vectorizer = CountVectorizer(tokenizer=preprocess)"
   ]
  },
  {
   "cell_type": "code",
   "execution_count": 13,
   "metadata": {},
   "outputs": [
    {
     "data": {
      "text/plain": [
       "CountVectorizer(analyzer='word', binary=False, decode_error='strict',\n",
       "        dtype=<class 'numpy.int64'>, encoding='utf-8', input='content',\n",
       "        lowercase=True, max_df=1.0, max_features=None, min_df=1,\n",
       "        ngram_range=(1, 1), preprocessor=None, stop_words=None,\n",
       "        strip_accents=None, token_pattern='(?u)\\\\b\\\\w\\\\w+\\\\b',\n",
       "        tokenizer=<function preprocess at 0x000001837E007BF8>,\n",
       "        vocabulary=None)"
      ]
     },
     "execution_count": 13,
     "metadata": {},
     "output_type": "execute_result"
    }
   ],
   "source": [
    "vectorizer.fit(texts)"
   ]
  },
  {
   "cell_type": "code",
   "execution_count": 14,
   "metadata": {},
   "outputs": [
    {
     "data": {
      "text/plain": [
       "15129"
      ]
     },
     "execution_count": 14,
     "metadata": {},
     "output_type": "execute_result"
    }
   ],
   "source": [
    "len(vectorizer.vocabulary_)"
   ]
  },
  {
   "cell_type": "code",
   "execution_count": 15,
   "metadata": {},
   "outputs": [
    {
     "data": {
      "text/plain": [
       "165"
      ]
     },
     "execution_count": 15,
     "metadata": {},
     "output_type": "execute_result"
    }
   ],
   "source": [
    "len(texts)"
   ]
  },
  {
   "cell_type": "markdown",
   "metadata": {},
   "source": [
    "Строим матрицу-индекс:"
   ]
  },
  {
   "cell_type": "code",
   "execution_count": 18,
   "metadata": {},
   "outputs": [],
   "source": [
    "from sklearn.preprocessing import normalize"
   ]
  },
  {
   "cell_type": "code",
   "execution_count": 100,
   "metadata": {},
   "outputs": [],
   "source": [
    "## Функция индексирования данных:\n",
    "def get_index(preprocessed_texts):\n",
    "    return vectorizer.transform(preprocessed_texts)"
   ]
  },
  {
   "cell_type": "code",
   "execution_count": 101,
   "metadata": {},
   "outputs": [],
   "source": [
    "index = get_index(texts)"
   ]
  },
  {
   "cell_type": "markdown",
   "metadata": {},
   "source": [
    "Реализуем собственно поиск:"
   ]
  },
  {
   "cell_type": "code",
   "execution_count": 105,
   "metadata": {},
   "outputs": [],
   "source": [
    "## функция метрики релевантности - функция, строящая матрицу косинусной близости:\n",
    "def sim_matrix(strings):\n",
    "    query = normalize(vectorizer.transform(strings))\n",
    "    return query * normalize(index).transpose(copy=True)"
   ]
  },
  {
   "cell_type": "code",
   "execution_count": 106,
   "metadata": {},
   "outputs": [],
   "source": [
    "## функция поиска:\n",
    "def multiple_search(queries):\n",
    "    results = []\n",
    "    if type(queries) == str:\n",
    "        queries = [queries]\n",
    "    sims = sim_matrix(queries).todense()\n",
    "    for row in sims:\n",
    "        query = np.asarray(row)[0]\n",
    "        query = np.argsort(query)[::-1].tolist()\n",
    "        results.append(episode_names[query])\n",
    "    return results"
   ]
  },
  {
   "cell_type": "code",
   "execution_count": 170,
   "metadata": {},
   "outputs": [
    {
     "data": {
      "text/plain": [
       "[array([\"Friends - 5x17 - The One With Rachel's Inadvertent Kiss.ru\",\n",
       "        'Friends - 2x16 - The One Where Joey Moves Out.ru',\n",
       "        \"Friends - 4x05 - The One With Joey's New Girlfriend.ru\",\n",
       "        \"Friends - 6x21 - The One Where Ross Meets Elizabeth's Dad.ru\",\n",
       "        \"Friends - 7x24-25 - The One With Chandler And Monica's Wedding (2).ru\",\n",
       "        'Friends - 6x04 - The One Where Joey Loses His Insurance.ru',\n",
       "        'Friends - 3x16 - The One With The Morning After (2).ru',\n",
       "        \"Friends - 6x19 - The One With Joey's Fridge.ru\",\n",
       "        'Friends - 6x24 - The One With The Proposal (1).ru',\n",
       "        \"Friends - 7x07 - The One With Ross's Library Book.ru\",\n",
       "        'Friends - 3x05 - The One With Frank Jr..ru',\n",
       "        'Friends - 4x01 - The One With The Jellyfish.ru',\n",
       "        'Friends - 4x01 - The One With The Jellyfish.Tv.ru',\n",
       "        \"Friends - 7x18 - The One With Joey's Award.ru\",\n",
       "        'Friends - 4x10 - The One With The Girl From Poughkeepsie.ru',\n",
       "        'Friends - 3x18 - The One With The Hypnosis Tape.ru',\n",
       "        'Friends - 7x14 - The One Where They All Turn Thirty.ru',\n",
       "        'Friends - 5x15 - The One With The Girl Who Hits Joey.ru',\n",
       "        \"Friends - 4x18 - The One With Rachel's New Dress.ru\",\n",
       "        'Friends - 3x13 - The One Where Monica And Richard Are Just Friends.ru',\n",
       "        'Friends - 5x23-24 - The One In Vegas (1).ru',\n",
       "        'Friends - 6x16-17 - The One That Could Have Been (2).ru',\n",
       "        'Friends - 3x17 - The One Without The Ski Trip.ru',\n",
       "        \"Friends - 5x09 - The One With Ross's Sandwich.ru\",\n",
       "        'Friends - 2x05 - The One With Five Steaks And An Eggplant.ru',\n",
       "        \"Friends - 5x19 - The One Where Ross Can't Flirt.ru\",\n",
       "        \"Friends - 6x22 - The One Where Paul's The Man.ru\",\n",
       "        'Friends - 1x10 - The One With The Monkey.ru',\n",
       "        'Friends - 4x08 - The One With Chandler In A Box.ru',\n",
       "        \"Friends - 6x05 - The One With Joey's Porsche.ru\",\n",
       "        'Friends - 5x10 - The One With The Inappropriate Sister.ru',\n",
       "        'Friends - 4x12 - The One With The Embryos.ru',\n",
       "        'Friends - 2x07 - The One Where Ross Finds Out.ru',\n",
       "        'Friends - 6x06 - The One On The Last Night.ru',\n",
       "        \"Friends - 5x22 - The One With Joey's Big Break.ru\",\n",
       "        'Friends - 6x09 - The One Where Ross Got High.ru',\n",
       "        'Friends - 2x08 - The One With The List.ru',\n",
       "        \"Friends - 7x12 - The One Where They're Up All Night.ru\",\n",
       "        'Friends - 4x16 - The One With The Fake Party.ru',\n",
       "        'Friends - 1x03 - The One With The Thumb.ru',\n",
       "        \"Friends - 7x02 - The One With Rachel's Book.ru\",\n",
       "        'Friends - 1x06 - The One With The Butt.ru',\n",
       "        'Friends - 2x22 - The One With The Two Parties.ru',\n",
       "        'Friends - 6x10 - The One With The Routine.ru',\n",
       "        'Friends - 4x20 - The One With The Wedding Dresses.ru',\n",
       "        'Friends - 1x16 - The One With Two Parts (1).ru',\n",
       "        'Friends - 1x11 - The One With Mrs. Bing.ru',\n",
       "        \"Friends - 7x23 - The One With Chandler And Monica's Wedding (1).ru\",\n",
       "        'Friends - 5x05 - The One With The Kips.ru',\n",
       "        'Friends - 7x21 - The One With The Vows.ru',\n",
       "        'Friends - 2x17 - The One Where Eddie Moves In.ru',\n",
       "        'Friends - 1x19 - The One Where The Monkey Gets Away.ru',\n",
       "        'Friends - 6x01 - The One After Vegas.ru',\n",
       "        'Friends - 5x18 - The One Where Rachel Smokes.ru',\n",
       "        'Friends - 4x17 - The One With The Free Porn.ru',\n",
       "        \"Friends - 5x13 - The One With Joey's Bag.ru\",\n",
       "        'Friends - 4x15 - The One With All The Rugby.ru',\n",
       "        \"Friends - 2x04 - The One With Phoebe's Husband.ru\",\n",
       "        'Friends - 3x19 - The One With The Tiny T-Shirt.ru',\n",
       "        'Friends - 5x04 - The One Where Phoebe Hates PBS.ru',\n",
       "        \"Friends - 4x14 - The One With Joey's Dirty Day.ru\",\n",
       "        'Friends - 3x15 - The One Where Ross And Rachel Take A Break (1).ru',\n",
       "        'Friends - 7x16 - The One With The Truth About London.ru',\n",
       "        'Friends - 2x11 - The One With The Lesbian Wedding.ru',\n",
       "        'Friends - 7x06 - The One With The Nap Partners.ru',\n",
       "        'Friends - 5x21 - The One With The Ball.ru',\n",
       "        \"Friends - 3x02 - The One Where No One's Ready.ru\",\n",
       "        'Friends - 2x06 - The One With The Baby On The Bus.ru',\n",
       "        'Friends - 1x07 - The One With The Blackout.ru',\n",
       "        \"Friends - 2x19 - The One Where Eddie Won't Go.ru\",\n",
       "        'Friends - 3x06 - The One With The Flashback.ru',\n",
       "        'Friends - 1x15 - The One With The Stoned Guy.ru',\n",
       "        'Friends - 2x02 - The One With The Breast Milk.ru',\n",
       "        'Friends - 7x10 - The One With The Holiday Armadillo.ru',\n",
       "        'Friends - 1x14 - The One With The Candy Hearts.ru',\n",
       "        \"Friends - 7x22 - The One With Chandler's Dad.ru\",\n",
       "        'Friends - 1x12 - The One With The Dozen Lasagnas.ru',\n",
       "        'Friends - 7x13 - The One Where Rosita Dies.ru',\n",
       "        \"Friends - 7x19 - The One With Ross And Monica's Cousin.ru\",\n",
       "        \"Friends - 2x01 - The One With Ross's New Girlfriend.ru\",\n",
       "        'Friends - 1x09 - The One Where Underdog Gets Away.ru',\n",
       "        'Friends - 2x12 - The One After The Super Bowl (1).ru',\n",
       "        'Friends - 3x09 - The One With The Football.ru',\n",
       "        'Friends - 2x21 - The One With The Bullies.ru',\n",
       "        'Friends - 1x17 - The One With Two Parts (2).ru',\n",
       "        'Friends - 7x09 - The One With All The Candy.ru',\n",
       "        'Friends - 1x04 - The One With George Stephanopoulos.ru',\n",
       "        \"Friends - 4x24-25 - The One With Ross's Wedding (2).ru\",\n",
       "        \"Friends - 2x01 - The One With Ross's New Girlfriend.DVDRip.ru\",\n",
       "        'Friends - 4x19 - The One With All The Haste.ru',\n",
       "        'Friends - 2x13 - The One After The Super Bowl (2).ru',\n",
       "        'Friends - 3x01 - The One With The Princess Leia Fantasy.ru',\n",
       "        \"Friends - 4x13 - The One With Rachel's Crush.ru\",\n",
       "        'Friends - 5x03 - The One Hundredth.ru',\n",
       "        \"Friends - 4x23-24 - The One With Ross's Wedding (1).ru\",\n",
       "        \"Friends - 7x15 - The One With Joey's New Brain.ru\",\n",
       "        'Friends - 6x15 - The One That Could Have Been (1).ru',\n",
       "        'Friends - 3x12 - The One With All The Jealousy.ru',\n",
       "        \"Friends - 2x24 - The One With Barry And Mindy's Wedding.ru\",\n",
       "        'Friends - 5x01 - The One After Ross Says Rachel.ru',\n",
       "        'Friends - 6x11 - The One With The Apothecary Table.ru',\n",
       "        'Friends - 2x10 - The One With Russ.ru',\n",
       "        \"Friends - 6x08 - The One With Ross's Teeth.ru\",\n",
       "        'Friends - 3x20 - The One With The Dollhouse.ru',\n",
       "        \"Friends - 4x11 - The One With Phoebe's Uterus.ru\",\n",
       "        'Friends - 7x05 - The One With The Engagement Picture.ru',\n",
       "        \"Friends - 6x03 - The One With Ross's Denial.ru\",\n",
       "        \"Friends - 7x03 - The One With Phoebe's Cookies.ru\",\n",
       "        'Friends - 1x20 - The One With The Evil Orthodontist.ru',\n",
       "        'Friends - 6x25-26 - The One With The Proposal (2).ru',\n",
       "        'Friends - 6x07 - The One Where Phoebe Runs.ru',\n",
       "        \"Friends - 7x20 - The One With Rachel's Big Kiss.ru\",\n",
       "        \"Friends - 7x01 - The One With Monica's Thunder.ru\",\n",
       "        \"Friends - 5x12 - The One With Chandler's Work Laugh.ru\",\n",
       "        'Friends - 6x02 - The One Where Ross Hugs Rachel.ru',\n",
       "        'Friends - 6x20 - The One With Mac And C.H.E.E.S.E..ru',\n",
       "        'Friends - 3x21 - The One With A Chick And A Duck.ru',\n",
       "        \"Friends - 3x11 - The One Where Chandler Can't Remember Which Sister.ru\",\n",
       "        'Friends - 2x20 - The One Where Old Yeller Dies.NurlanB.ru',\n",
       "        'Friends - 3x04 - The One With The Metaphorical Tunnel.ru',\n",
       "        'Friends - 5x02 - The One With All The Kissing.ru',\n",
       "        \"Friends - 6x14 - The One Where Chandler Can't Cry (2).ru\",\n",
       "        'Friends - 1x01 - The One Where Monica Gets A Roommate.ru',\n",
       "        'Friends - 2x23 - The One With The Chicken Pox.ru',\n",
       "        'Friends - 7x17 - The One With The Cheap Wedding Dress.ru',\n",
       "        'Friends - 6x17 - The One With Unagi.ru',\n",
       "        'Friends - 1x18 - The One With All The Poker.ru',\n",
       "        \"Friends - 4x09 - The One Where They're Going To Party!.ru\",\n",
       "        \"Friends - 6x13 - The One With Rachel's Sister (1).ru\",\n",
       "        'Friends - 6x12 - The One With The Joke.ru',\n",
       "        'Friends - 4x21 - The One With The Invitations.ru',\n",
       "        'Friends - 1x13 - The One With The Boobies.ru',\n",
       "        'Friends - 4x22 - The One With The Worst Best Man Ever.ru',\n",
       "        'Friends - 5x06 - The One With The Yeti.ru',\n",
       "        'Friends - 3x03 - The One With The Jam.ru',\n",
       "        'Friends - 5x07 - The One Where Ross Moves In.ru',\n",
       "        'Friends - 1x08 - The One Where Nana Dies Twice.ru',\n",
       "        'Friends - 5x08 - The One With The Thanksgiving Flashbacks.ru',\n",
       "        'Friends - 5x24-25 - The One In Vegas (2).ru',\n",
       "        'Friends - 1x05 - The One With The East German Laundry Detergent.ru',\n",
       "        'Friends - 5x11 - The One With All The Resolutions.ru',\n",
       "        'Friends - 5x14 - The One Where Everybody Finds Out.ru',\n",
       "        'Friends - 1x02 - The One With The Sonogram At The End.ru',\n",
       "        'Friends - 4x07 - The One Where Chandler Crosses The Line.ru',\n",
       "        'Friends - 4x06 - The One With The Dirty Girl.ru',\n",
       "        'Friends - 6x18 - The One Where Ross Dates A Student.ru',\n",
       "        'Friends - 4x04 - The One With The Ballroom Dancing.ru',\n",
       "        'Friends - 3x07 - The One With The Race Car Bed.ru',\n",
       "        'Friends - 2x18 - The One Where Dr. Ramoray Dies.ru',\n",
       "        \"Friends - 7x08 - The One Where Chandler Doesn't Like Dogs.ru\",\n",
       "        'Friends - 3x08 - The One With The Giant Poking Device.ru',\n",
       "        'Friends - 2x15 - The One Where Ross And Rachel...You Know.ru',\n",
       "        'Friends - 2x14 - The One With The Prom Video.ru',\n",
       "        'Friends - 5x20 - The One With The Ride Along.ru',\n",
       "        'Friends - 3x10 - The One Where Rachel Quits.ru',\n",
       "        \"Friends - 7x04 - The One With Rachel's Assistant.ru\",\n",
       "        \"Friends - 3x14 - The One With Phoebe's Ex-Partner.ru\",\n",
       "        \"Friends - 2x09 - The One With Phoebe's Dad.ru\",\n",
       "        'Friends - 6x23 - The One With The Ring.ru',\n",
       "        'Friends - 7x11 - The One With All The Cheesecakes.ru',\n",
       "        'Friends - 4x02 - The One With The Cat.ru',\n",
       "        'Friends - 4x02 - The One With The Cat.Tv.ru',\n",
       "        \"Friends - 4x03 - The One With The 'Cuffs.ru\",\n",
       "        'Friends - 2x03 - The One Where Heckles Dies.ru',\n",
       "        'Friends - 5x16 - The One With The Cop.ru'], dtype='<U70'),\n",
       " array(['Friends - 3x20 - The One With The Dollhouse.ru',\n",
       "        'Friends - 6x11 - The One With The Apothecary Table.ru',\n",
       "        'Friends - 7x13 - The One Where Rosita Dies.ru',\n",
       "        'Friends - 5x21 - The One With The Ball.ru',\n",
       "        \"Friends - 6x13 - The One With Rachel's Sister (1).ru\",\n",
       "        \"Friends - 7x02 - The One With Rachel's Book.ru\",\n",
       "        'Friends - 1x05 - The One With The East German Laundry Detergent.ru',\n",
       "        'Friends - 6x10 - The One With The Routine.ru',\n",
       "        'Friends - 6x23 - The One With The Ring.ru',\n",
       "        \"Friends - 4x24-25 - The One With Ross's Wedding (2).ru\",\n",
       "        'Friends - 2x02 - The One With The Breast Milk.ru',\n",
       "        \"Friends - 2x09 - The One With Phoebe's Dad.ru\",\n",
       "        \"Friends - 4x03 - The One With The 'Cuffs.ru\",\n",
       "        'Friends - 2x21 - The One With The Bullies.ru',\n",
       "        'Friends - 6x24 - The One With The Proposal (1).ru',\n",
       "        \"Friends - 6x22 - The One Where Paul's The Man.ru\",\n",
       "        'Friends - 1x03 - The One With The Thumb.ru',\n",
       "        'Friends - 7x14 - The One Where They All Turn Thirty.ru',\n",
       "        'Friends - 4x12 - The One With The Embryos.ru',\n",
       "        'Friends - 2x16 - The One Where Joey Moves Out.ru',\n",
       "        \"Friends - 6x19 - The One With Joey's Fridge.ru\",\n",
       "        'Friends - 3x15 - The One Where Ross And Rachel Take A Break (1).ru',\n",
       "        'Friends - 7x10 - The One With The Holiday Armadillo.ru',\n",
       "        'Friends - 2x11 - The One With The Lesbian Wedding.ru',\n",
       "        'Friends - 3x21 - The One With A Chick And A Duck.ru',\n",
       "        'Friends - 2x03 - The One Where Heckles Dies.ru',\n",
       "        'Friends - 4x06 - The One With The Dirty Girl.ru',\n",
       "        'Friends - 7x17 - The One With The Cheap Wedding Dress.ru',\n",
       "        'Friends - 4x04 - The One With The Ballroom Dancing.ru',\n",
       "        'Friends - 1x09 - The One Where Underdog Gets Away.ru',\n",
       "        'Friends - 2x12 - The One After The Super Bowl (1).ru',\n",
       "        'Friends - 5x15 - The One With The Girl Who Hits Joey.ru',\n",
       "        \"Friends - 4x18 - The One With Rachel's New Dress.ru\",\n",
       "        'Friends - 1x04 - The One With George Stephanopoulos.ru',\n",
       "        'Friends - 4x21 - The One With The Invitations.ru',\n",
       "        \"Friends - 4x13 - The One With Rachel's Crush.ru\",\n",
       "        \"Friends - 4x23-24 - The One With Ross's Wedding (1).ru\",\n",
       "        'Friends - 1x19 - The One Where The Monkey Gets Away.ru',\n",
       "        'Friends - 3x17 - The One Without The Ski Trip.ru',\n",
       "        'Friends - 4x17 - The One With The Free Porn.ru',\n",
       "        \"Friends - 5x17 - The One With Rachel's Inadvertent Kiss.ru\",\n",
       "        'Friends - 4x08 - The One With Chandler In A Box.ru',\n",
       "        'Friends - 1x02 - The One With The Sonogram At The End.ru',\n",
       "        \"Friends - 6x03 - The One With Ross's Denial.ru\",\n",
       "        'Friends - 1x07 - The One With The Blackout.ru',\n",
       "        'Friends - 7x16 - The One With The Truth About London.ru',\n",
       "        'Friends - 6x06 - The One On The Last Night.ru',\n",
       "        'Friends - 1x20 - The One With The Evil Orthodontist.ru',\n",
       "        'Friends - 6x25-26 - The One With The Proposal (2).ru',\n",
       "        'Friends - 3x18 - The One With The Hypnosis Tape.ru',\n",
       "        'Friends - 6x02 - The One Where Ross Hugs Rachel.ru',\n",
       "        \"Friends - 2x19 - The One Where Eddie Won't Go.ru\",\n",
       "        'Friends - 5x02 - The One With All The Kissing.ru',\n",
       "        'Friends - 6x12 - The One With The Joke.ru',\n",
       "        'Friends - 3x06 - The One With The Flashback.ru',\n",
       "        'Friends - 2x23 - The One With The Chicken Pox.ru',\n",
       "        'Friends - 1x12 - The One With The Dozen Lasagnas.ru',\n",
       "        \"Friends - 7x19 - The One With Ross And Monica's Cousin.ru\",\n",
       "        'Friends - 2x22 - The One With The Two Parties.ru',\n",
       "        'Friends - 1x16 - The One With Two Parts (1).ru',\n",
       "        'Friends - 1x11 - The One With Mrs. Bing.ru',\n",
       "        'Friends - 1x17 - The One With Two Parts (2).ru',\n",
       "        'Friends - 3x05 - The One With Frank Jr..ru',\n",
       "        'Friends - 6x04 - The One Where Joey Loses His Insurance.ru',\n",
       "        'Friends - 1x13 - The One With The Boobies.ru',\n",
       "        'Friends - 3x03 - The One With The Jam.ru',\n",
       "        'Friends - 2x14 - The One With The Prom Video.ru',\n",
       "        'Friends - 4x22 - The One With The Worst Best Man Ever.ru',\n",
       "        \"Friends - 5x09 - The One With Ross's Sandwich.ru\",\n",
       "        'Friends - 2x05 - The One With Five Steaks And An Eggplant.ru',\n",
       "        'Friends - 5x01 - The One After Ross Says Rachel.ru',\n",
       "        \"Friends - 5x19 - The One Where Ross Can't Flirt.ru\",\n",
       "        \"Friends - 6x08 - The One With Ross's Teeth.ru\",\n",
       "        'Friends - 4x15 - The One With All The Rugby.ru',\n",
       "        'Friends - 5x06 - The One With The Yeti.ru',\n",
       "        'Friends - 6x18 - The One Where Ross Dates A Student.ru',\n",
       "        \"Friends - 6x05 - The One With Joey's Porsche.ru\",\n",
       "        \"Friends - 7x04 - The One With Rachel's Assistant.ru\",\n",
       "        'Friends - 4x01 - The One With The Jellyfish.ru',\n",
       "        'Friends - 7x11 - The One With All The Cheesecakes.ru',\n",
       "        'Friends - 5x20 - The One With The Ride Along.ru',\n",
       "        'Friends - 4x01 - The One With The Jellyfish.Tv.ru',\n",
       "        'Friends - 4x10 - The One With The Girl From Poughkeepsie.ru',\n",
       "        \"Friends - 6x21 - The One Where Ross Meets Elizabeth's Dad.ru\",\n",
       "        'Friends - 6x20 - The One With Mac And C.H.E.E.S.E..ru',\n",
       "        'Friends - 2x20 - The One Where Old Yeller Dies.NurlanB.ru',\n",
       "        'Friends - 2x06 - The One With The Baby On The Bus.ru',\n",
       "        'Friends - 1x08 - The One Where Nana Dies Twice.ru',\n",
       "        'Friends - 5x24-25 - The One In Vegas (2).ru',\n",
       "        'Friends - 2x15 - The One Where Ross And Rachel...You Know.ru',\n",
       "        'Friends - 1x15 - The One With The Stoned Guy.ru',\n",
       "        'Friends - 1x14 - The One With The Candy Hearts.ru',\n",
       "        'Friends - 6x17 - The One With Unagi.ru',\n",
       "        \"Friends - 7x22 - The One With Chandler's Dad.ru\",\n",
       "        'Friends - 5x07 - The One Where Ross Moves In.ru',\n",
       "        'Friends - 2x18 - The One Where Dr. Ramoray Dies.ru',\n",
       "        'Friends - 4x16 - The One With The Fake Party.ru',\n",
       "        'Friends - 1x06 - The One With The Butt.ru',\n",
       "        'Friends - 4x20 - The One With The Wedding Dresses.ru',\n",
       "        'Friends - 3x09 - The One With The Football.ru',\n",
       "        \"Friends - 7x23 - The One With Chandler And Monica's Wedding (1).ru\",\n",
       "        'Friends - 7x09 - The One With All The Candy.ru',\n",
       "        \"Friends - 4x05 - The One With Joey's New Girlfriend.ru\",\n",
       "        'Friends - 3x10 - The One Where Rachel Quits.ru',\n",
       "        \"Friends - 7x24-25 - The One With Chandler And Monica's Wedding (2).ru\",\n",
       "        'Friends - 5x23-24 - The One In Vegas (1).ru',\n",
       "        \"Friends - 2x01 - The One With Ross's New Girlfriend.DVDRip.ru\",\n",
       "        'Friends - 6x16-17 - The One That Could Have Been (2).ru',\n",
       "        'Friends - 7x21 - The One With The Vows.ru',\n",
       "        'Friends - 2x17 - The One Where Eddie Moves In.ru',\n",
       "        \"Friends - 7x15 - The One With Joey's New Brain.ru\",\n",
       "        'Friends - 6x15 - The One That Could Have Been (1).ru',\n",
       "        'Friends - 5x18 - The One Where Rachel Smokes.ru',\n",
       "        'Friends - 4x07 - The One Where Chandler Crosses The Line.ru',\n",
       "        'Friends - 3x07 - The One With The Race Car Bed.ru',\n",
       "        'Friends - 1x10 - The One With The Monkey.ru',\n",
       "        \"Friends - 5x13 - The One With Joey's Bag.ru\",\n",
       "        'Friends - 2x10 - The One With Russ.ru',\n",
       "        'Friends - 5x16 - The One With The Cop.ru',\n",
       "        \"Friends - 7x08 - The One Where Chandler Doesn't Like Dogs.ru\",\n",
       "        'Friends - 7x05 - The One With The Engagement Picture.ru',\n",
       "        'Friends - 3x19 - The One With The Tiny T-Shirt.ru',\n",
       "        'Friends - 5x04 - The One Where Phoebe Hates PBS.ru',\n",
       "        'Friends - 3x08 - The One With The Giant Poking Device.ru',\n",
       "        \"Friends - 4x14 - The One With Joey's Dirty Day.ru\",\n",
       "        \"Friends - 4x09 - The One Where They're Going To Party!.ru\",\n",
       "        'Friends - 2x07 - The One Where Ross Finds Out.ru',\n",
       "        \"Friends - 7x18 - The One With Joey's Award.ru\",\n",
       "        \"Friends - 7x03 - The One With Phoebe's Cookies.ru\",\n",
       "        'Friends - 6x07 - The One Where Phoebe Runs.ru',\n",
       "        \"Friends - 7x20 - The One With Rachel's Big Kiss.ru\",\n",
       "        \"Friends - 3x11 - The One Where Chandler Can't Remember Which Sister.ru\",\n",
       "        'Friends - 6x09 - The One Where Ross Got High.ru',\n",
       "        \"Friends - 3x14 - The One With Phoebe's Ex-Partner.ru\",\n",
       "        'Friends - 3x04 - The One With The Metaphorical Tunnel.ru',\n",
       "        \"Friends - 6x14 - The One Where Chandler Can't Cry (2).ru\",\n",
       "        'Friends - 1x01 - The One Where Monica Gets A Roommate.ru',\n",
       "        'Friends - 1x18 - The One With All The Poker.ru',\n",
       "        \"Friends - 7x01 - The One With Monica's Thunder.ru\",\n",
       "        \"Friends - 7x12 - The One Where They're Up All Night.ru\",\n",
       "        \"Friends - 7x07 - The One With Ross's Library Book.ru\",\n",
       "        'Friends - 6x01 - The One After Vegas.ru',\n",
       "        'Friends - 7x06 - The One With The Nap Partners.ru',\n",
       "        'Friends - 3x16 - The One With The Morning After (2).ru',\n",
       "        \"Friends - 2x01 - The One With Ross's New Girlfriend.ru\",\n",
       "        'Friends - 4x19 - The One With All The Haste.ru',\n",
       "        'Friends - 3x13 - The One Where Monica And Richard Are Just Friends.ru',\n",
       "        'Friends - 3x12 - The One With All The Jealousy.ru',\n",
       "        'Friends - 4x02 - The One With The Cat.ru',\n",
       "        'Friends - 4x02 - The One With The Cat.Tv.ru',\n",
       "        \"Friends - 3x02 - The One Where No One's Ready.ru\",\n",
       "        'Friends - 3x01 - The One With The Princess Leia Fantasy.ru',\n",
       "        \"Friends - 2x24 - The One With Barry And Mindy's Wedding.ru\",\n",
       "        \"Friends - 4x11 - The One With Phoebe's Uterus.ru\",\n",
       "        'Friends - 5x03 - The One Hundredth.ru',\n",
       "        \"Friends - 5x22 - The One With Joey's Big Break.ru\",\n",
       "        'Friends - 5x05 - The One With The Kips.ru',\n",
       "        'Friends - 5x08 - The One With The Thanksgiving Flashbacks.ru',\n",
       "        'Friends - 5x10 - The One With The Inappropriate Sister.ru',\n",
       "        'Friends - 5x11 - The One With All The Resolutions.ru',\n",
       "        'Friends - 2x13 - The One After The Super Bowl (2).ru',\n",
       "        \"Friends - 5x12 - The One With Chandler's Work Laugh.ru\",\n",
       "        'Friends - 2x08 - The One With The List.ru',\n",
       "        \"Friends - 2x04 - The One With Phoebe's Husband.ru\",\n",
       "        'Friends - 5x14 - The One Where Everybody Finds Out.ru'],\n",
       "       dtype='<U70')]"
      ]
     },
     "execution_count": 170,
     "metadata": {},
     "output_type": "execute_result"
    }
   ],
   "source": [
    "multiple_search(['начать отношения', 'купить дом'])"
   ]
  },
  {
   "cell_type": "markdown",
   "metadata": {},
   "source": [
    "## С помощью обратного индекса посчитайте:  \n",
    "\n",
    "\n",
    "a) какое слово является самым частотным\n",
    "\n",
    "b) какое самым редким\n",
    "\n",
    "c) какой набор слов есть во всех документах коллекции\n",
    "\n",
    "d) какой сезон был самым популярным у Чендлера? у Моники?\n",
    "\n",
    "e) кто из главных героев статистически самый популярный? \n"
   ]
  },
  {
   "cell_type": "code",
   "execution_count": 115,
   "metadata": {},
   "outputs": [],
   "source": [
    "def get_inverse_index(preprocessed_texts):\n",
    "    return get_index(preprocessed_texts).transpose()"
   ]
  },
  {
   "cell_type": "code",
   "execution_count": 116,
   "metadata": {},
   "outputs": [],
   "source": [
    "inverse_index = get_inverse_index(texts)"
   ]
  },
  {
   "cell_type": "code",
   "execution_count": null,
   "metadata": {},
   "outputs": [],
   "source": [
    "vectorizer.vocabulary_"
   ]
  },
  {
   "cell_type": "code",
   "execution_count": 136,
   "metadata": {},
   "outputs": [],
   "source": [
    "def most_frequent(inv_index, vocab):\n",
    "    freq_dict = freq_counts(inv_index, vocab)\n",
    "    return max(freq_dict, key=lambda x: freq_dict[x])"
   ]
  },
  {
   "cell_type": "code",
   "execution_count": 137,
   "metadata": {},
   "outputs": [],
   "source": [
    "def least_frequent(inv_index, vocab):\n",
    "    freq_dict = freq_counts(inv_index, vocab)\n",
    "    return sorted(freq_dict, key=lambda x: freq_dict[x])[0]"
   ]
  },
  {
   "cell_type": "code",
   "execution_count": 147,
   "metadata": {},
   "outputs": [],
   "source": [
    "def freq_counts(inv_index, vocab):\n",
    "    word_list = sorted([word for word in vocab], key= lambda x: vocab[x])\n",
    "    freqs = np.array(inverse_index.sum(axis=1)).flatten()\n",
    "    freqdict = {word: freq for word, freq in zip(word_list, freqs)}\n",
    "    return freqdict"
   ]
  },
  {
   "cell_type": "markdown",
   "metadata": {},
   "source": [
    "### a.) Найдём самое частотное слово:"
   ]
  },
  {
   "cell_type": "code",
   "execution_count": 148,
   "metadata": {},
   "outputs": [
    {
     "data": {
      "text/plain": [
       "'я'"
      ]
     },
     "execution_count": 148,
     "metadata": {},
     "output_type": "execute_result"
    }
   ],
   "source": [
    "most_frequent(inverse_index, vectorizer.vocabulary_)"
   ]
  },
  {
   "cell_type": "markdown",
   "metadata": {},
   "source": [
    "### b.) Найдём самое редкое слово:"
   ]
  },
  {
   "cell_type": "code",
   "execution_count": 150,
   "metadata": {},
   "outputs": [
    {
     "data": {
      "text/plain": [
       "'-вский'"
      ]
     },
     "execution_count": 150,
     "metadata": {},
     "output_type": "execute_result"
    }
   ],
   "source": [
    "least_frequent(inverse_index, vectorizer.vocabulary_)"
   ]
  },
  {
   "cell_type": "markdown",
   "metadata": {},
   "source": [
    "### c.) Найдём слова, которые есть во всех документах коллекции:"
   ]
  },
  {
   "cell_type": "code",
   "execution_count": 167,
   "metadata": {},
   "outputs": [],
   "source": [
    "def all_doc_words(inv_index, vocab):\n",
    "    words = []\n",
    "    word_list = sorted([word for word in vocab], key= lambda x: vocab[x])\n",
    "    for row, word in zip(inv_index, word_list):\n",
    "        if len(row.nonzero()[1]) == row.shape[1]:\n",
    "            words.append(word)\n",
    "    return words"
   ]
  },
  {
   "cell_type": "code",
   "execution_count": 169,
   "metadata": {},
   "outputs": [
    {
     "name": "stdout",
     "output_type": "stream",
     "text": [
      "['а', 'быть', 'в', 'весь', 'да', 'думать', 'если', 'ещё', 'знать', 'и', 'как', 'мой', 'мочь', 'мы', 'на', 'не', 'нет', 'но', 'ну', 'о', 'он', 'она', 'просто', 'с', 'сказать', 'так', 'такой', 'тот', 'ты', 'у', 'хотеть', 'что', 'это', 'этот', 'я']\n"
     ]
    }
   ],
   "source": [
    "print(all_doc_words(inverse_index, vectorizer.vocabulary_))"
   ]
  },
  {
   "cell_type": "markdown",
   "metadata": {},
   "source": [
    "### d) Какой сезон был самым популярным у Чендлера? у Моники?"
   ]
  },
  {
   "cell_type": "code",
   "execution_count": 201,
   "metadata": {},
   "outputs": [],
   "source": [
    "def most_popular_season(word, inv_index, vocab, episode_names):\n",
    "    season_codes = set([re.search('[0-9]+x',i).group(0) for i in episode_names])\n",
    "    word_list = sorted([word for word in vectorizer.vocabulary_],\n",
    "                       key= lambda x: vectorizer.vocabulary_[x])\n",
    "    episode_counts = pd.DataFrame(np.array(inverse_index.todense()),\n",
    "                                  index=word_list,\n",
    "                                  columns=episode_names).loc[word]\n",
    "    season_counts = {i:0 for i in season_codes}\n",
    "    for scode in season_codes:\n",
    "        season_counts[scode] = sum([episode_counts[ep] for ep in episode_names if scode in ep])\n",
    "    return int(max(season_counts, key=lambda x: season_counts[x])[:-1])"
   ]
  },
  {
   "cell_type": "code",
   "execution_count": 202,
   "metadata": {},
   "outputs": [
    {
     "data": {
      "text/plain": [
       "6"
      ]
     },
     "execution_count": 202,
     "metadata": {},
     "output_type": "execute_result"
    }
   ],
   "source": [
    "most_popular_season('чендлер', inverse_index, vectorizer.vocabulary_, episode_names)"
   ]
  },
  {
   "cell_type": "code",
   "execution_count": 203,
   "metadata": {},
   "outputs": [
    {
     "data": {
      "text/plain": [
       "7"
      ]
     },
     "execution_count": 203,
     "metadata": {},
     "output_type": "execute_result"
    }
   ],
   "source": [
    "most_popular_season('моника', inverse_index, vectorizer.vocabulary_, episode_names)"
   ]
  },
  {
   "cell_type": "markdown",
   "metadata": {},
   "source": [
    "### e) Кто из главных героев статистически самый популярный?"
   ]
  },
  {
   "cell_type": "code",
   "execution_count": 215,
   "metadata": {},
   "outputs": [],
   "source": [
    "def most_popular_character(char_list, inv_index, vocab):\n",
    "    char_counts = {char:inv_index[vocab[char]].sum() for char in char_list}\n",
    "    return max(char_counts, key=lambda x: char_counts[x])"
   ]
  },
  {
   "cell_type": "code",
   "execution_count": 216,
   "metadata": {},
   "outputs": [
    {
     "data": {
      "text/plain": [
       "'росс'"
      ]
     },
     "execution_count": 216,
     "metadata": {},
     "output_type": "execute_result"
    }
   ],
   "source": [
    "most_popular_character(['рэйчел','моника','фиби','джо','чендлер','росс'],\n",
    "                      inverse_index,\n",
    "                      vectorizer.vocabulary_)"
   ]
  }
 ],
 "metadata": {
  "kernelspec": {
   "display_name": "Python 3",
   "language": "python",
   "name": "python3"
  },
  "language_info": {
   "codemirror_mode": {
    "name": "ipython",
    "version": 3
   },
   "file_extension": ".py",
   "mimetype": "text/x-python",
   "name": "python",
   "nbconvert_exporter": "python",
   "pygments_lexer": "ipython3",
   "version": "3.7.3"
  }
 },
 "nbformat": 4,
 "nbformat_minor": 2
}
