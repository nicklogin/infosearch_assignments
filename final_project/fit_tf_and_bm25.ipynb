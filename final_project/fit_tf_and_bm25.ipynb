{
 "cells": [
  {
   "cell_type": "code",
   "execution_count": 8,
   "metadata": {},
   "outputs": [],
   "source": [
    "from search_models import extract_texts, BMVectorSearch, TFSearch, W2VSearch, ElmoSearch, Lemmatizer, load_json\n",
    "import pandas as pd"
   ]
  },
  {
   "cell_type": "code",
   "execution_count": 5,
   "metadata": {},
   "outputs": [],
   "source": [
    "from gensim.models import KeyedVectors"
   ]
  },
  {
   "cell_type": "code",
   "execution_count": 2,
   "metadata": {},
   "outputs": [],
   "source": [
    "data_path = \"C:\\\\Users\\\\k1l77\\\\infosearch\\\\infosearch_assignments\\\\data\\\\quora_question_pairs_rus.csv\"\n",
    "\n",
    "texts = extract_texts(pd.read_csv(data_path))\n",
    "\n",
    "lemmatizer =  Lemmatizer()"
   ]
  },
  {
   "cell_type": "code",
   "execution_count": 11,
   "metadata": {},
   "outputs": [],
   "source": [
    "search_config = load_json(\"search_config.json\")\n",
    "ft_model = KeyedVectors.load(search_config['ft_path'])\n",
    "elmo_path = search_config['elmo_path']"
   ]
  },
  {
   "cell_type": "code",
   "execution_count": 7,
   "metadata": {},
   "outputs": [
    {
     "name": "stdout",
     "output_type": "stream",
     "text": [
      "Wall time: 8min 4s\n"
     ]
    }
   ],
   "source": [
    "%%time\n",
    "global tf_model\n",
    "tf_model = TFSearch(texts, lemmatizer)"
   ]
  },
  {
   "cell_type": "code",
   "execution_count": 8,
   "metadata": {},
   "outputs": [
    {
     "data": {
      "text/plain": [
       "array(['почему США не помогают Индии ликвидировать нищету в Индии',\n",
       "       'переезд из США в Индию', 'Индия однажды станет частью США',\n",
       "       'который лучше mba из Индии или США',\n",
       "       'какая разница между США и Индией'], dtype='<U1283')"
      ]
     },
     "execution_count": 8,
     "metadata": {},
     "output_type": "execute_result"
    }
   ],
   "source": [
    "tf_model.search(\"индия сша\")"
   ]
  },
  {
   "cell_type": "code",
   "execution_count": 9,
   "metadata": {},
   "outputs": [],
   "source": [
    "tf_model.dump(index_file='./tf_data/index.npz',\n",
    "text_collection_file='./tf_data/texts.npy',\n",
    "vocab_file='./tf_data/vocab.pkl')"
   ]
  },
  {
   "cell_type": "code",
   "execution_count": 7,
   "metadata": {},
   "outputs": [],
   "source": [
    "import json"
   ]
  },
  {
   "cell_type": "code",
   "execution_count": 13,
   "metadata": {},
   "outputs": [
    {
     "name": "stdout",
     "output_type": "stream",
     "text": [
      "Wall time: 8min 55s\n"
     ]
    }
   ],
   "source": [
    "%%time\n",
    "global bm_model\n",
    "bm_model = BMVectorSearch(texts, lemmatizer)"
   ]
  },
  {
   "cell_type": "code",
   "execution_count": 15,
   "metadata": {},
   "outputs": [],
   "source": [
    "bm_model.dump(index_file='./bm25_data/index.npz',\n",
    "text_collection_file='./bm25_data/texts.npy',\n",
    "tf_file='./bm25_data/tf_matrix.npz',\n",
    "idf_file='./bm25_data/idf_matrix.npy',\n",
    "vocab_file='./bm25_data/vocab.pkl')"
   ]
  },
  {
   "cell_type": "code",
   "execution_count": 12,
   "metadata": {},
   "outputs": [
    {
     "name": "stderr",
     "output_type": "stream",
     "text": [
      "C:\\ProgramData\\Anaconda3\\lib\\site-packages\\numpy\\core\\fromnumeric.py:3118: RuntimeWarning: Mean of empty slice.\n",
      "  out=out, **kwargs)\n",
      "C:\\ProgramData\\Anaconda3\\lib\\site-packages\\numpy\\core\\_methods.py:85: RuntimeWarning: invalid value encountered in double_scalars\n",
      "  ret = ret.dtype.type(ret / rcount)\n"
     ]
    },
    {
     "name": "stdout",
     "output_type": "stream",
     "text": [
      "Wall time: 48.6 s\n"
     ]
    }
   ],
   "source": [
    "%%time\n",
    "global ft_search\n",
    "ft_search = W2VSearch(ft_model, texts[:10000], lemmatizer)"
   ]
  },
  {
   "cell_type": "code",
   "execution_count": 13,
   "metadata": {},
   "outputs": [],
   "source": [
    "ft_search.dump(index_file=\"./ft_data/index.npy\",\n",
    "              text_collection_file = './ft_data/texts.npy')"
   ]
  },
  {
   "cell_type": "code",
   "execution_count": 16,
   "metadata": {},
   "outputs": [],
   "source": [
    "import os"
   ]
  },
  {
   "cell_type": "code",
   "execution_count": 14,
   "metadata": {},
   "outputs": [],
   "source": [
    "def search_with_model(model, text, n_results=100):\n",
    "    kwargs = {'use_pretrained': True}\n",
    "    lemmatizer = Lemmatizer()\n",
    "    kwargs['lemmatizer'] = lemmatizer\n",
    "    if model == 'tf':\n",
    "        path = search_config['tf_data_path']\n",
    "        kwargs['texts'] = os.path.join(path, 'texts.npy')\n",
    "        kwargs['index_file'] = os.path.join(path, 'index.npz')\n",
    "        kwargs['vocab_file'] = os.path.join(path, 'vocab.pkl')\n",
    "        search_model = TFSearch(**kwargs)\n",
    "        ##print(search_model.vectorizer.transform([text]).shape)\n",
    "        ##print(search_model.index.shape)\n",
    "    elif model == 'bm25':\n",
    "        path = search_config['bm25_data_path']\n",
    "        kwargs['texts'] = os.path.join(path, 'texts.npy')\n",
    "        kwargs['index_file'] = os.path.join(path, 'index.npz')\n",
    "        kwargs['vocab_file'] = os.path.join(path, 'vocab.pkl')\n",
    "        kwargs['tf_file'] = os.path.join(path, 'tf_matrix.npz')\n",
    "        kwargs['idf_file'] = os.path.join(path, 'idf_matrix.npy')\n",
    "        search_model = BMVectorSearch(**kwargs)\n",
    "    elif model == 'ft':\n",
    "        path = search_config['ft_data_path']\n",
    "        kwargs['model'] = ft_model\n",
    "        kwargs['texts'] = os.path.join(path, 'texts.npy')\n",
    "        kwargs['index_file'] = os.path.join(path, 'index.npy')\n",
    "        search_model = W2VSearch(**kwargs)\n",
    "    elif model == 'elmo':\n",
    "        path = search_config['elmo_data_path']\n",
    "        kwargs['elmo_path'] = search_config['elmo_path']\n",
    "        kwargs['texts'] = os.path.join(path, 'texts.npy')\n",
    "        kwargs['index_file'] = os.path.join(path, 'index.npy')\n",
    "        search_model = ElmoSearch(**kwargs)\n",
    "    else:\n",
    "        raise Exception\n",
    "    return search_model.search(text, return_similarities=True, n_results=n_results)"
   ]
  },
  {
   "cell_type": "code",
   "execution_count": 17,
   "metadata": {},
   "outputs": [
    {
     "data": {
      "text/plain": [
       "(array(['что заставляет кошку преследовать кошку',\n",
       "        'могут кошки получить блох от собак',\n",
       "        'которые были одомашнены первыми кошками или собаками',\n",
       "        'собаки умнее лошадей', 'выжили бы собаки',\n",
       "        'почему мой австралийский пастух красный щенок щенка киев боится кошек',\n",
       "        'почему собаки лают и рычат во сне', 'как думают кошки',\n",
       "        'какое животное более умные свиньи или собаки',\n",
       "        'как собаки могут забеременеть', 'существуют дикие кошки',\n",
       "        'почему у кошек есть черные бугеры', 'почему собаки любят ласкать',\n",
       "        'может ли кошка убить человека', 'как бороться с собакой?',\n",
       "        'какие животные едят лисы',\n",
       "        'может кошка благополучно есть чизбургер',\n",
       "        'кошки переживают менопаузу', 'морозные лапы безопасны для кошек',\n",
       "        '60 - хорошая оценка в кошке',\n",
       "        'как выглядят немецкие овчарки и хриплые щенки',\n",
       "        'какая порода этой кошки',\n",
       "        'что значит, если собака рвет белую пена',\n",
       "        'как собака реагирует с раненым незнакомцем',\n",
       "        'как я могу сделать свою собаку собакой-компаньоном',\n",
       "        'почему моя кошка жует его пищу', 'что животные думают о',\n",
       "        'почему индийская армия убивает собак и лошадей, если они непригодны',\n",
       "        'как цыпленок курицу',\n",
       "        'каковы недостатки усыновления щенков у домашних животных',\n",
       "        'как я могу избавиться от крошечных червей на моей кошке',\n",
       "        'кто выиграет бой между волом и собакой',\n",
       "        'какая книга лучше: квантовая кошка лицом к лицу или аруна шарма для qa в кошке',\n",
       "        'у вас есть волк, как домашнее животное',\n",
       "        'лучший способ поймать мышь',\n",
       "        'что происходит, если человек, не укушенный собакой, принимает 5 доз вакцинации',\n",
       "        'когда были сделаны первые чучела животных',\n",
       "        'у кошки Дональда есть нарциссическое расстройство личности',\n",
       "        'что он говорит о характере мужчины или мальчика, который любит кошек',\n",
       "        'почему мой биглец щенок гонит мою ногу',\n",
       "        'бродячие собаки poo вне моей двери почти каждый день, как я могу остановить их',\n",
       "        'что является самой опасной отдельной породой собак в мире',\n",
       "        'что является лучшим пищей для 40-дневного щенка лабрадора',\n",
       "        'какой лучший институт коучинга кошек в jaipur',\n",
       "        'почему собаки так волнуются за человеческую пищу',\n",
       "        'должен ли я подготовить кошачий кот, оставив свою работу',\n",
       "        'делает давать бенадрил собаке, чтобы они спали',\n",
       "        'насколько хорош индраджит сингх иканта кошка подготовки коучинга',\n",
       "        'может собака отбиваться от волка или, по крайней мере, избежать встречи живым или устроить хороший бой',\n",
       "        'что вы должны делать, если ваша собака ест шоколад',\n",
       "        'как вы делаете гейм костюм собаки?',\n",
       "        'прекрасно, что ребенок, играющий со своей домашней собакой, лизается им на губах рта или даже на его языке',\n",
       "        'я должен присоединиться к iift delhi или повторить кошку, чтобы попасть в iims',\n",
       "        'насекомые: какая разница между фруктовыми мухами и блохами',\n",
       "        'как я могу остановить мою кошку от мочи',\n",
       "        'какие увлекательные вещи связаны с моей собакой в \\u200b\\u200bдалласе tx',\n",
       "        'у животных есть мечты',\n",
       "        'делают женщины, как большой черный петух',\n",
       "        'какова разница между черепаховой и козловой кошкой, что некоторые примеры',\n",
       "        'у всех енотов есть бешенство',\n",
       "        'что такое какой-то культурный faux pas при взаимодействии с кошками',\n",
       "        'какие животные добывают мееркаты',\n",
       "        'делать коров мочиться молоком',\n",
       "        'кто-нибудь взял домашних животных в индийских железных дорогах',\n",
       "        'в чем причина, почему кошки кашля',\n",
       "        'какие особые заботы у 10-недельных щенков питбуля',\n",
       "        'почему люди не могут есть сырое мясо, когда другие животные могут',\n",
       "        'где лучше всего купить щенка', 'почему не наткнулся на свинью',\n",
       "        'ты можешь убить волка только ножом',\n",
       "        'должен ли я уважать чувства мусульманского убийства козы хладнокровной крови, когда я провел почти всю свою жизнь, заботясь о животных, чтобы быть светским',\n",
       "        'был избит собакой последние 7 8 дней назад очистил рану и не смог пройти вакцинацию, я все равно получаю бешенство, что я буду делать',\n",
       "        'что такое оценка кошки, необходимая для входа в iiswbm kolkata',\n",
       "        'что такое отсечка отсечки кошки для tapmi',\n",
       "        'какие травоядные животные сделают лучших плотоядных, если только пищевые привычки и пищеварение не будут изменяться в соответствии с плотоядной диетой',\n",
       "        'я нашел новорожденного бродячего щенка, которого он может быть днем, не может найти свою мать, как я должен заботиться о нем',\n",
       "        'укусить комара или укусить',\n",
       "        'является самообучением, достаточным для кошки',\n",
       "        'у животных есть сознание',\n",
       "        'какие породы собак с низким уровнем обслуживания',\n",
       "        'верно ли, что собаки в возрасте 7 лет за каждый человеческий год',\n",
       "        'я случайно оставил свою собаку в своей машине около 45 минут в моем открытом гараже, было 90 снаружи, но как мне выразить ей, что я извиняюсь',\n",
       "        'почему перепелка индейки из мяса ягненка свиная называется баттом, не употребляемым в Индии в основном не по сравнению с козьим мясом и курицей',\n",
       "        'что у меня уши кроликов',\n",
       "        'как предотвратить кошку от царапин ушей, пока они не истекут кровью',\n",
       "        'если бы люди эволюционировали от обезьян, почему у нас все еще есть обезьяны сегодня',\n",
       "        'который является лучшим временем или ims для кошки в banglore',\n",
       "        'Гориллы едят мясо',\n",
       "        'будучи экстремальным мангли, какой-то там-бюстгальтер тамил брахмин сказал мне жениться на кактусовом дереве, что я должен делать',\n",
       "        'как вы размораживаете хвост омара',\n",
       "        'сколько времени нужно готовить для кошки',\n",
       "        'где лучше всего есть жареную утку k oy peking duck в Пекине',\n",
       "        'в чем разница между тигром и леопардом',\n",
       "        'почему многие люди держат свиней на руках у м-ра никто 2009',\n",
       "        'какой сыр использует домино, как я могу сделать свою пиццу дома',\n",
       "        'почему люди едят насекомых',\n",
       "        'мне нужны передние и задние фонари для моего велосипеда, чтобы кататься ночью в Калифорнии',\n",
       "        'что должен носить тренер лошади',\n",
       "        'в каких хороших колледжах mba я могу получить доступ с 89 процентилями в кошке в общей категории',\n",
       "        'вы можете приручить гориллу'], dtype='<U407'),\n",
       " array([0.81482448, 0.78951484, 0.77744093, 0.76553942, 0.7427434 ,\n",
       "        0.7269974 , 0.72350201, 0.72160982, 0.69513548, 0.68610309,\n",
       "        0.68059273, 0.6762729 , 0.66820715, 0.66627942, 0.6536442 ,\n",
       "        0.6525505 , 0.65124702, 0.65029594, 0.64044779, 0.63362431,\n",
       "        0.63201639, 0.62907117, 0.62519026, 0.62238032, 0.61951782,\n",
       "        0.61901686, 0.61495845, 0.61054741, 0.60689059, 0.6057971 ,\n",
       "        0.60501181, 0.59886258, 0.59850822, 0.59793904, 0.59224141,\n",
       "        0.59187207, 0.5894095 , 0.58837259, 0.58126392, 0.58036805,\n",
       "        0.57965815, 0.57875473, 0.57825435, 0.57239114, 0.57158261,\n",
       "        0.5707458 , 0.57030837, 0.56590848, 0.56460618, 0.56358198,\n",
       "        0.561688  , 0.56133387, 0.56104411, 0.5577751 , 0.55513584,\n",
       "        0.55403946, 0.55065846, 0.54914802, 0.54841956, 0.54679957,\n",
       "        0.54657706, 0.54253242, 0.54177998, 0.54010916, 0.53987672,\n",
       "        0.53979131, 0.53679088, 0.53655853, 0.53216954, 0.53137129,\n",
       "        0.52878057, 0.52785868, 0.52784856, 0.52504238, 0.52446877,\n",
       "        0.52368359, 0.52364627, 0.5233297 , 0.52243431, 0.52120206,\n",
       "        0.52113609, 0.51916111, 0.51858883, 0.51717338, 0.51509663,\n",
       "        0.51507828, 0.51479575, 0.5105537 , 0.50947835, 0.50907924,\n",
       "        0.50588191, 0.50555686, 0.50509105, 0.50274895, 0.5017418 ,\n",
       "        0.50141604, 0.50098812, 0.50054218, 0.49904723, 0.49896421]))"
      ]
     },
     "execution_count": 17,
     "metadata": {},
     "output_type": "execute_result"
    }
   ],
   "source": [
    "search_with_model('ft', \"собака кошка\")"
   ]
  },
  {
   "cell_type": "code",
   "execution_count": null,
   "metadata": {},
   "outputs": [
    {
     "name": "stdout",
     "output_type": "stream",
     "text": [
      "max sentence length -  67\n"
     ]
    },
    {
     "name": "stderr",
     "output_type": "stream",
     "text": [
      "Sentences in this batch: 100\n"
     ]
    },
    {
     "name": "stdout",
     "output_type": "stream",
     "text": [
      "max sentence length -  34\n"
     ]
    },
    {
     "name": "stderr",
     "output_type": "stream",
     "text": [
      "Sentences in this batch: 100\n"
     ]
    },
    {
     "name": "stdout",
     "output_type": "stream",
     "text": [
      "max sentence length -  32\n"
     ]
    },
    {
     "name": "stderr",
     "output_type": "stream",
     "text": [
      "Sentences in this batch: 100\n"
     ]
    },
    {
     "name": "stdout",
     "output_type": "stream",
     "text": [
      "max sentence length -  30\n"
     ]
    },
    {
     "name": "stderr",
     "output_type": "stream",
     "text": [
      "Sentences in this batch: 100\n"
     ]
    },
    {
     "name": "stdout",
     "output_type": "stream",
     "text": [
      "max sentence length -  28\n"
     ]
    },
    {
     "name": "stderr",
     "output_type": "stream",
     "text": [
      "Sentences in this batch: 100\n"
     ]
    },
    {
     "name": "stdout",
     "output_type": "stream",
     "text": [
      "max sentence length -  27\n"
     ]
    },
    {
     "name": "stderr",
     "output_type": "stream",
     "text": [
      "Sentences in this batch: 100\n"
     ]
    },
    {
     "name": "stdout",
     "output_type": "stream",
     "text": [
      "max sentence length -  26\n"
     ]
    },
    {
     "name": "stderr",
     "output_type": "stream",
     "text": [
      "Sentences in this batch: 100\n"
     ]
    },
    {
     "name": "stdout",
     "output_type": "stream",
     "text": [
      "max sentence length -  25\n"
     ]
    },
    {
     "name": "stderr",
     "output_type": "stream",
     "text": [
      "Sentences in this batch: 100\n"
     ]
    },
    {
     "name": "stdout",
     "output_type": "stream",
     "text": [
      "max sentence length -  24\n"
     ]
    },
    {
     "name": "stderr",
     "output_type": "stream",
     "text": [
      "Sentences in this batch: 100\n"
     ]
    },
    {
     "name": "stdout",
     "output_type": "stream",
     "text": [
      "max sentence length -  22\n"
     ]
    },
    {
     "name": "stderr",
     "output_type": "stream",
     "text": [
      "Sentences in this batch: 100\n"
     ]
    },
    {
     "name": "stdout",
     "output_type": "stream",
     "text": [
      "max sentence length -  22\n"
     ]
    },
    {
     "name": "stderr",
     "output_type": "stream",
     "text": [
      "Sentences in this batch: 100\n"
     ]
    },
    {
     "name": "stdout",
     "output_type": "stream",
     "text": [
      "max sentence length -  22\n"
     ]
    },
    {
     "name": "stderr",
     "output_type": "stream",
     "text": [
      "Sentences in this batch: 100\n"
     ]
    },
    {
     "name": "stdout",
     "output_type": "stream",
     "text": [
      "max sentence length -  21\n"
     ]
    },
    {
     "name": "stderr",
     "output_type": "stream",
     "text": [
      "Sentences in this batch: 100\n"
     ]
    },
    {
     "name": "stdout",
     "output_type": "stream",
     "text": [
      "max sentence length -  19\n"
     ]
    },
    {
     "name": "stderr",
     "output_type": "stream",
     "text": [
      "Sentences in this batch: 100\n"
     ]
    },
    {
     "name": "stdout",
     "output_type": "stream",
     "text": [
      "max sentence length -  19\n"
     ]
    },
    {
     "name": "stderr",
     "output_type": "stream",
     "text": [
      "Sentences in this batch: 100\n"
     ]
    },
    {
     "name": "stdout",
     "output_type": "stream",
     "text": [
      "max sentence length -  18\n"
     ]
    },
    {
     "name": "stderr",
     "output_type": "stream",
     "text": [
      "Sentences in this batch: 100\n"
     ]
    },
    {
     "name": "stdout",
     "output_type": "stream",
     "text": [
      "max sentence length -  18\n"
     ]
    },
    {
     "name": "stderr",
     "output_type": "stream",
     "text": [
      "Sentences in this batch: 100\n"
     ]
    },
    {
     "name": "stdout",
     "output_type": "stream",
     "text": [
      "max sentence length -  18\n"
     ]
    },
    {
     "name": "stderr",
     "output_type": "stream",
     "text": [
      "Sentences in this batch: 100\n"
     ]
    },
    {
     "name": "stdout",
     "output_type": "stream",
     "text": [
      "max sentence length -  18\n"
     ]
    },
    {
     "name": "stderr",
     "output_type": "stream",
     "text": [
      "Sentences in this batch: 100\n"
     ]
    },
    {
     "name": "stdout",
     "output_type": "stream",
     "text": [
      "max sentence length -  17\n"
     ]
    },
    {
     "name": "stderr",
     "output_type": "stream",
     "text": [
      "Sentences in this batch: 100\n"
     ]
    },
    {
     "name": "stdout",
     "output_type": "stream",
     "text": [
      "max sentence length -  17\n"
     ]
    },
    {
     "name": "stderr",
     "output_type": "stream",
     "text": [
      "Sentences in this batch: 100\n"
     ]
    },
    {
     "name": "stdout",
     "output_type": "stream",
     "text": [
      "max sentence length -  17\n"
     ]
    },
    {
     "name": "stderr",
     "output_type": "stream",
     "text": [
      "Sentences in this batch: 100\n"
     ]
    },
    {
     "name": "stdout",
     "output_type": "stream",
     "text": [
      "max sentence length -  15\n"
     ]
    },
    {
     "name": "stderr",
     "output_type": "stream",
     "text": [
      "Sentences in this batch: 100\n"
     ]
    },
    {
     "name": "stdout",
     "output_type": "stream",
     "text": [
      "max sentence length -  15\n"
     ]
    },
    {
     "name": "stderr",
     "output_type": "stream",
     "text": [
      "Sentences in this batch: 100\n"
     ]
    },
    {
     "name": "stdout",
     "output_type": "stream",
     "text": [
      "max sentence length -  16\n"
     ]
    },
    {
     "name": "stderr",
     "output_type": "stream",
     "text": [
      "Sentences in this batch: 100\n"
     ]
    },
    {
     "name": "stdout",
     "output_type": "stream",
     "text": [
      "max sentence length -  15\n"
     ]
    },
    {
     "name": "stderr",
     "output_type": "stream",
     "text": [
      "Sentences in this batch: 100\n"
     ]
    },
    {
     "name": "stdout",
     "output_type": "stream",
     "text": [
      "max sentence length -  16\n"
     ]
    },
    {
     "name": "stderr",
     "output_type": "stream",
     "text": [
      "Sentences in this batch: 100\n"
     ]
    },
    {
     "name": "stdout",
     "output_type": "stream",
     "text": [
      "max sentence length -  14\n"
     ]
    },
    {
     "name": "stderr",
     "output_type": "stream",
     "text": [
      "Sentences in this batch: 100\n"
     ]
    },
    {
     "name": "stdout",
     "output_type": "stream",
     "text": [
      "max sentence length -  14\n"
     ]
    },
    {
     "name": "stderr",
     "output_type": "stream",
     "text": [
      "Sentences in this batch: 100\n"
     ]
    },
    {
     "name": "stdout",
     "output_type": "stream",
     "text": [
      "max sentence length -  15\n"
     ]
    },
    {
     "name": "stderr",
     "output_type": "stream",
     "text": [
      "Sentences in this batch: 100\n"
     ]
    },
    {
     "name": "stdout",
     "output_type": "stream",
     "text": [
      "max sentence length -  14\n"
     ]
    },
    {
     "name": "stderr",
     "output_type": "stream",
     "text": [
      "Sentences in this batch: 100\n"
     ]
    },
    {
     "name": "stdout",
     "output_type": "stream",
     "text": [
      "max sentence length -  15\n"
     ]
    },
    {
     "name": "stderr",
     "output_type": "stream",
     "text": [
      "Sentences in this batch: 100\n"
     ]
    },
    {
     "name": "stdout",
     "output_type": "stream",
     "text": [
      "max sentence length -  13\n"
     ]
    },
    {
     "name": "stderr",
     "output_type": "stream",
     "text": [
      "Sentences in this batch: 100\n"
     ]
    },
    {
     "name": "stdout",
     "output_type": "stream",
     "text": [
      "max sentence length -  13\n"
     ]
    },
    {
     "name": "stderr",
     "output_type": "stream",
     "text": [
      "Sentences in this batch: 100\n"
     ]
    },
    {
     "name": "stdout",
     "output_type": "stream",
     "text": [
      "max sentence length -  14\n"
     ]
    },
    {
     "name": "stderr",
     "output_type": "stream",
     "text": [
      "Sentences in this batch: 100\n"
     ]
    },
    {
     "name": "stdout",
     "output_type": "stream",
     "text": [
      "max sentence length -  13\n"
     ]
    },
    {
     "name": "stderr",
     "output_type": "stream",
     "text": [
      "Sentences in this batch: 100\n"
     ]
    },
    {
     "name": "stdout",
     "output_type": "stream",
     "text": [
      "max sentence length -  12\n"
     ]
    },
    {
     "name": "stderr",
     "output_type": "stream",
     "text": [
      "Sentences in this batch: 100\n"
     ]
    },
    {
     "name": "stdout",
     "output_type": "stream",
     "text": [
      "max sentence length -  13\n"
     ]
    },
    {
     "name": "stderr",
     "output_type": "stream",
     "text": [
      "Sentences in this batch: 100\n"
     ]
    },
    {
     "name": "stdout",
     "output_type": "stream",
     "text": [
      "max sentence length -  12\n"
     ]
    },
    {
     "name": "stderr",
     "output_type": "stream",
     "text": [
      "Sentences in this batch: 100\n"
     ]
    },
    {
     "name": "stdout",
     "output_type": "stream",
     "text": [
      "max sentence length -  13\n"
     ]
    },
    {
     "name": "stderr",
     "output_type": "stream",
     "text": [
      "Sentences in this batch: 100\n"
     ]
    },
    {
     "name": "stdout",
     "output_type": "stream",
     "text": [
      "max sentence length -  12\n"
     ]
    },
    {
     "name": "stderr",
     "output_type": "stream",
     "text": [
      "Sentences in this batch: 100\n"
     ]
    },
    {
     "name": "stdout",
     "output_type": "stream",
     "text": [
      "max sentence length -  13\n"
     ]
    },
    {
     "name": "stderr",
     "output_type": "stream",
     "text": [
      "Sentences in this batch: 100\n"
     ]
    },
    {
     "name": "stdout",
     "output_type": "stream",
     "text": [
      "max sentence length -  11\n"
     ]
    },
    {
     "name": "stderr",
     "output_type": "stream",
     "text": [
      "Sentences in this batch: 100\n"
     ]
    },
    {
     "name": "stdout",
     "output_type": "stream",
     "text": [
      "max sentence length -  13\n"
     ]
    },
    {
     "name": "stderr",
     "output_type": "stream",
     "text": [
      "Sentences in this batch: 100\n"
     ]
    },
    {
     "name": "stdout",
     "output_type": "stream",
     "text": [
      "max sentence length -  11\n"
     ]
    },
    {
     "name": "stderr",
     "output_type": "stream",
     "text": [
      "Sentences in this batch: 100\n"
     ]
    },
    {
     "name": "stdout",
     "output_type": "stream",
     "text": [
      "max sentence length -  12\n"
     ]
    },
    {
     "name": "stderr",
     "output_type": "stream",
     "text": [
      "Sentences in this batch: 100\n"
     ]
    },
    {
     "name": "stdout",
     "output_type": "stream",
     "text": [
      "max sentence length -  11\n"
     ]
    },
    {
     "name": "stderr",
     "output_type": "stream",
     "text": [
      "Sentences in this batch: 100\n"
     ]
    },
    {
     "name": "stdout",
     "output_type": "stream",
     "text": [
      "max sentence length -  11\n"
     ]
    },
    {
     "name": "stderr",
     "output_type": "stream",
     "text": [
      "Sentences in this batch: 100\n"
     ]
    },
    {
     "name": "stdout",
     "output_type": "stream",
     "text": [
      "max sentence length -  12\n"
     ]
    },
    {
     "name": "stderr",
     "output_type": "stream",
     "text": [
      "Sentences in this batch: 100\n"
     ]
    },
    {
     "name": "stdout",
     "output_type": "stream",
     "text": [
      "max sentence length -  10\n"
     ]
    },
    {
     "name": "stderr",
     "output_type": "stream",
     "text": [
      "Sentences in this batch: 100\n"
     ]
    },
    {
     "name": "stdout",
     "output_type": "stream",
     "text": [
      "max sentence length -  10\n"
     ]
    },
    {
     "name": "stderr",
     "output_type": "stream",
     "text": [
      "Sentences in this batch: 100\n"
     ]
    },
    {
     "name": "stdout",
     "output_type": "stream",
     "text": [
      "max sentence length -  10\n"
     ]
    },
    {
     "name": "stderr",
     "output_type": "stream",
     "text": [
      "Sentences in this batch: 100\n"
     ]
    },
    {
     "name": "stdout",
     "output_type": "stream",
     "text": [
      "max sentence length -  10\n"
     ]
    },
    {
     "name": "stderr",
     "output_type": "stream",
     "text": [
      "Sentences in this batch: 100\n"
     ]
    },
    {
     "name": "stdout",
     "output_type": "stream",
     "text": [
      "max sentence length -  10\n"
     ]
    },
    {
     "name": "stderr",
     "output_type": "stream",
     "text": [
      "Sentences in this batch: 100\n"
     ]
    },
    {
     "name": "stdout",
     "output_type": "stream",
     "text": [
      "max sentence length -  11\n"
     ]
    },
    {
     "name": "stderr",
     "output_type": "stream",
     "text": [
      "Sentences in this batch: 100\n"
     ]
    },
    {
     "name": "stdout",
     "output_type": "stream",
     "text": [
      "max sentence length -  10\n"
     ]
    },
    {
     "name": "stderr",
     "output_type": "stream",
     "text": [
      "Sentences in this batch: 100\n"
     ]
    },
    {
     "name": "stdout",
     "output_type": "stream",
     "text": [
      "max sentence length -  9\n"
     ]
    },
    {
     "name": "stderr",
     "output_type": "stream",
     "text": [
      "Sentences in this batch: 100\n"
     ]
    },
    {
     "name": "stdout",
     "output_type": "stream",
     "text": [
      "max sentence length -  10\n"
     ]
    },
    {
     "name": "stderr",
     "output_type": "stream",
     "text": [
      "Sentences in this batch: 100\n"
     ]
    },
    {
     "name": "stdout",
     "output_type": "stream",
     "text": [
      "max sentence length -  10\n"
     ]
    },
    {
     "name": "stderr",
     "output_type": "stream",
     "text": [
      "Sentences in this batch: 100\n"
     ]
    },
    {
     "name": "stdout",
     "output_type": "stream",
     "text": [
      "max sentence length -  10\n"
     ]
    },
    {
     "name": "stderr",
     "output_type": "stream",
     "text": [
      "Sentences in this batch: 100\n"
     ]
    },
    {
     "name": "stdout",
     "output_type": "stream",
     "text": [
      "max sentence length -  9\n"
     ]
    },
    {
     "name": "stderr",
     "output_type": "stream",
     "text": [
      "Sentences in this batch: 100\n"
     ]
    },
    {
     "name": "stdout",
     "output_type": "stream",
     "text": [
      "max sentence length -  9\n"
     ]
    },
    {
     "name": "stderr",
     "output_type": "stream",
     "text": [
      "Sentences in this batch: 100\n"
     ]
    },
    {
     "name": "stdout",
     "output_type": "stream",
     "text": [
      "max sentence length -  10\n"
     ]
    },
    {
     "name": "stderr",
     "output_type": "stream",
     "text": [
      "Sentences in this batch: 100\n"
     ]
    },
    {
     "name": "stdout",
     "output_type": "stream",
     "text": [
      "max sentence length -  9\n"
     ]
    },
    {
     "name": "stderr",
     "output_type": "stream",
     "text": [
      "Sentences in this batch: 100\n"
     ]
    },
    {
     "name": "stdout",
     "output_type": "stream",
     "text": [
      "max sentence length -  10\n"
     ]
    },
    {
     "name": "stderr",
     "output_type": "stream",
     "text": [
      "Sentences in this batch: 100\n"
     ]
    },
    {
     "name": "stdout",
     "output_type": "stream",
     "text": [
      "max sentence length -  9\n"
     ]
    },
    {
     "name": "stderr",
     "output_type": "stream",
     "text": [
      "Sentences in this batch: 100\n"
     ]
    },
    {
     "name": "stdout",
     "output_type": "stream",
     "text": [
      "max sentence length -  8\n"
     ]
    },
    {
     "name": "stderr",
     "output_type": "stream",
     "text": [
      "Sentences in this batch: 100\n"
     ]
    },
    {
     "name": "stdout",
     "output_type": "stream",
     "text": [
      "max sentence length -  8\n"
     ]
    },
    {
     "name": "stderr",
     "output_type": "stream",
     "text": [
      "Sentences in this batch: 100\n"
     ]
    },
    {
     "name": "stdout",
     "output_type": "stream",
     "text": [
      "max sentence length -  9\n"
     ]
    },
    {
     "name": "stderr",
     "output_type": "stream",
     "text": [
      "Sentences in this batch: 100\n"
     ]
    },
    {
     "name": "stdout",
     "output_type": "stream",
     "text": [
      "max sentence length -  8\n"
     ]
    },
    {
     "name": "stderr",
     "output_type": "stream",
     "text": [
      "Sentences in this batch: 100\n"
     ]
    },
    {
     "name": "stdout",
     "output_type": "stream",
     "text": [
      "max sentence length -  10\n"
     ]
    },
    {
     "name": "stderr",
     "output_type": "stream",
     "text": [
      "Sentences in this batch: 100\n"
     ]
    },
    {
     "name": "stdout",
     "output_type": "stream",
     "text": [
      "max sentence length -  8\n"
     ]
    },
    {
     "name": "stderr",
     "output_type": "stream",
     "text": [
      "Sentences in this batch: 100\n"
     ]
    },
    {
     "name": "stdout",
     "output_type": "stream",
     "text": [
      "max sentence length -  9\n"
     ]
    },
    {
     "name": "stderr",
     "output_type": "stream",
     "text": [
      "Sentences in this batch: 100\n"
     ]
    },
    {
     "name": "stdout",
     "output_type": "stream",
     "text": [
      "max sentence length -  9\n"
     ]
    },
    {
     "name": "stderr",
     "output_type": "stream",
     "text": [
      "Sentences in this batch: 100\n"
     ]
    },
    {
     "name": "stdout",
     "output_type": "stream",
     "text": [
      "max sentence length -  8\n"
     ]
    }
   ],
   "source": [
    "%%time\n",
    "global elmo_search\n",
    "elmo_search = ElmoSearch(texts=texts[:10000],batch_size=100,\n",
    "                        elmo_path = search_config['elmo_path'],\n",
    "                        lemmatizer=lemmatizer)"
   ]
  },
  {
   "cell_type": "code",
   "execution_count": null,
   "metadata": {},
   "outputs": [],
   "source": []
  }
 ],
 "metadata": {
  "kernelspec": {
   "display_name": "Python 3",
   "language": "python",
   "name": "python3"
  },
  "language_info": {
   "codemirror_mode": {
    "name": "ipython",
    "version": 3
   },
   "file_extension": ".py",
   "mimetype": "text/x-python",
   "name": "python",
   "nbconvert_exporter": "python",
   "pygments_lexer": "ipython3",
   "version": "3.7.3"
  }
 },
 "nbformat": 4,
 "nbformat_minor": 2
}
